{
  "cells": [
    {
      "cell_type": "markdown",
      "metadata": {
        "id": "view-in-github",
        "colab_type": "text"
      },
      "source": [
        "<a href=\"https://colab.research.google.com/github/Rakhan00/Compuer-Vision-Projects/blob/main/Classification_Hand_Written_Digits.ipynb\" target=\"_parent\"><img src=\"https://colab.research.google.com/assets/colab-badge.svg\" alt=\"Open In Colab\"/></a>"
      ]
    },
    {
      "cell_type": "markdown",
      "metadata": {
        "id": "tiB3AiWvTHEP"
      },
      "source": [
        "# **Classification Model to Identify Hand Written Digits**"
      ]
    },
    {
      "cell_type": "markdown",
      "metadata": {
        "id": "82JKWP4iStRY"
      },
      "source": [
        "**The digits dataset consists of 8x8 pixel images of digits. The images attribute of the dataset stores 8x8 arrays of grayscale values for each image. We will use these arrays to visualize the first 4 images. The target attribute of the dataset stores the digit each image represents**"
      ]
    },
    {
      "cell_type": "code",
      "execution_count": null,
      "metadata": {
        "id": "nQKWHW8NT8p1"
      },
      "outputs": [],
      "source": [
        "# import library\n",
        "import pandas as pd\n",
        "import numpy as np\n",
        "import matplotlib.pyplot as plt\n",
        "import seaborn as sns"
      ]
    },
    {
      "cell_type": "code",
      "execution_count": null,
      "metadata": {
        "id": "nAsGjrzZaxJY"
      },
      "outputs": [],
      "source": [
        "# import data\n",
        "from sklearn.datasets import load_digits\n",
        "df = load_digits()"
      ]
    },
    {
      "cell_type": "code",
      "execution_count": null,
      "metadata": {
        "colab": {
          "base_uri": "https://localhost:8080/",
          "height": 168
        },
        "id": "fUx8PNZwsgse",
        "outputId": "40f54221-ffba-40c5-c6e9-a6d829895cb7"
      },
      "outputs": [
        {
          "output_type": "display_data",
          "data": {
            "text/plain": [
              "<Figure size 720x216 with 4 Axes>"
            ],
            "image/png": "[encoded data removed]"
          },
          "metadata": {
            "needs_background": "light"
          }
        }
      ],
      "source": [
        "# visualizing the data \n",
        "fig, axes = plt.subplots(nrows=1, ncols=4, figsize=(10, 3))\n",
        "for ax, image, label in zip(axes, df.images, df.target):\n",
        "    ax.set_axis_off()\n",
        "    ax.imshow(image, cmap=plt.cm.gray_r, interpolation=\"nearest\")\n",
        "    ax.set_title(\"Training: %i\" % label)"
      ]
    },
    {
      "cell_type": "markdown",
      "metadata": {
        "id": "GZ0RLJF0UNmC"
      },
      "source": [
        "# **Image Preprocessing**\n",
        "\n",
        "**Flatten Image**"
      ]
    },
    {
      "cell_type": "markdown",
      "source": [
        "![image.png](data:image/png;base64,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)"
      ],
      "metadata": {
        "id": "AnnKFw2Mga7m"
      }
    },
    {
      "cell_type": "code",
      "execution_count": null,
      "metadata": {
        "colab": {
          "base_uri": "https://localhost:8080/"
        },
        "id": "Z3RohGpjs4qb",
        "outputId": "48e99680-dd3c-4a24-c2b7-eec0f7e5f34e"
      },
      "outputs": [
        {
          "output_type": "execute_result",
          "data": {
            "text/plain": [
              "(1797, 8, 8)"
            ]
          },
          "metadata": {},
          "execution_count": 4
        }
      ],
      "source": [
        "# shape of dataset\n",
        "df.images.shape"
      ]
    },
    {
      "cell_type": "code",
      "execution_count": null,
      "metadata": {
        "colab": {
          "base_uri": "https://localhost:8080/"
        },
        "id": "vqx-oAajs1P8",
        "outputId": "2833b207-9d77-46d6-fed7-73a53dd27e9a"
      },
      "outputs": [
        {
          "output_type": "execute_result",
          "data": {
            "text/plain": [
              "array([[ 0.,  0.,  5., 13.,  9.,  1.,  0.,  0.],\n",
              "       [ 0.,  0., 13., 15., 10., 15.,  5.,  0.],\n",
              "       [ 0.,  3., 15.,  2.,  0., 11.,  8.,  0.],\n",
              "       [ 0.,  4., 12.,  0.,  0.,  8.,  8.,  0.],\n",
              "       [ 0.,  5.,  8.,  0.,  0.,  9.,  8.,  0.],\n",
              "       [ 0.,  4., 11.,  0.,  1., 12.,  7.,  0.],\n",
              "       [ 0.,  2., 14.,  5., 10., 12.,  0.,  0.],\n",
              "       [ 0.,  0.,  6., 13., 10.,  0.,  0.,  0.]])"
            ]
          },
          "metadata": {},
          "execution_count": 7
        }
      ],
      "source": [
        "# view pixels of first image with index 0\n",
        "df.images[0]"
      ]
    },
    {
      "cell_type": "code",
      "execution_count": null,
      "metadata": {
        "colab": {
          "base_uri": "https://localhost:8080/"
        },
        "id": "83XInKcuuIpp",
        "outputId": "7a9d3730-0e35-4644-8a55-73f7dcfd3d6a"
      },
      "outputs": [
        {
          "output_type": "execute_result",
          "data": {
            "text/plain": [
              "(8, 8)"
            ]
          },
          "metadata": {},
          "execution_count": 8
        }
      ],
      "source": [
        "# shape of first image with index 0\n",
        "df.images[0].shape"
      ]
    },
    {
      "cell_type": "code",
      "execution_count": null,
      "metadata": {
        "colab": {
          "base_uri": "https://localhost:8080/"
        },
        "id": "XV06X4oAQDX9",
        "outputId": "380ce334-44f6-487d-d874-c0ae3d4dc8c6"
      },
      "outputs": [
        {
          "output_type": "execute_result",
          "data": {
            "text/plain": [
              "1797"
            ]
          },
          "metadata": {},
          "execution_count": 9
        }
      ],
      "source": [
        "# number of total images\n",
        "len(df.images)"
      ]
    },
    {
      "cell_type": "code",
      "execution_count": null,
      "metadata": {
        "id": "odg3gUQJRy1g"
      },
      "outputs": [],
      "source": [
        "# flatten images\n",
        "n_samples = len(df.images)\n",
        "flatten_data = df.images.reshape((n_samples, -1)) # -1 means you decide that means model will decide"
      ]
    },
    {
      "cell_type": "code",
      "execution_count": null,
      "metadata": {
        "colab": {
          "base_uri": "https://localhost:8080/"
        },
        "id": "6uJncwxnt9CA",
        "outputId": "35969e65-55c3-45c7-9b6d-97ec88baafb1"
      },
      "outputs": [
        {
          "output_type": "execute_result",
          "data": {
            "text/plain": [
              "array([ 0.,  0.,  5., 13.,  9.,  1.,  0.,  0.,  0.,  0., 13., 15., 10.,\n",
              "       15.,  5.,  0.,  0.,  3., 15.,  2.,  0., 11.,  8.,  0.,  0.,  4.,\n",
              "       12.,  0.,  0.,  8.,  8.,  0.,  0.,  5.,  8.,  0.,  0.,  9.,  8.,\n",
              "        0.,  0.,  4., 11.,  0.,  1., 12.,  7.,  0.,  0.,  2., 14.,  5.,\n",
              "       10., 12.,  0.,  0.,  0.,  0.,  6., 13., 10.,  0.,  0.,  0.])"
            ]
          },
          "metadata": {},
          "execution_count": 11
        }
      ],
      "source": [
        "# flatten image view\n",
        "flatten_data[0]"
      ]
    },
    {
      "cell_type": "code",
      "source": [
        "# flatten image shape\n",
        "flatten_data[0].shape"
      ],
      "metadata": {
        "colab": {
          "base_uri": "https://localhost:8080/"
        },
        "id": "VMoabg51GHEZ",
        "outputId": "cf74bd0c-eefd-4342-d4f4-e9389ca08562"
      },
      "execution_count": null,
      "outputs": [
        {
          "output_type": "execute_result",
          "data": {
            "text/plain": [
              "(64,)"
            ]
          },
          "metadata": {},
          "execution_count": 12
        }
      ]
    },
    {
      "cell_type": "code",
      "execution_count": null,
      "metadata": {
        "colab": {
          "base_uri": "https://localhost:8080/"
        },
        "id": "FrEy6mAFtRGQ",
        "outputId": "e27e4d15-6358-428d-f79b-62b080fae3d4"
      },
      "outputs": [
        {
          "output_type": "execute_result",
          "data": {
            "text/plain": [
              "(1797, 64)"
            ]
          },
          "metadata": {},
          "execution_count": 13
        }
      ],
      "source": [
        "# flatten_data shape\n",
        "flatten_data.shape"
      ]
    },
    {
      "cell_type": "markdown",
      "metadata": {
        "id": "yeuWmjU0hBFk"
      },
      "source": [
        "# **Scaling Image Data**"
      ]
    },
    {
      "cell_type": "code",
      "execution_count": null,
      "metadata": {
        "colab": {
          "base_uri": "https://localhost:8080/"
        },
        "id": "n9NxdMtBhE6v",
        "outputId": "9c12792c-0dc2-4dfb-b780-6933749dfa5a"
      },
      "outputs": [
        {
          "output_type": "execute_result",
          "data": {
            "text/plain": [
              "0.0"
            ]
          },
          "metadata": {},
          "execution_count": 14
        }
      ],
      "source": [
        "# minimum value of image pixel\n",
        "flatten_data.min()"
      ]
    },
    {
      "cell_type": "code",
      "execution_count": null,
      "metadata": {
        "colab": {
          "base_uri": "https://localhost:8080/"
        },
        "id": "TBT1mQ9Vuh-4",
        "outputId": "e793187f-c957-4a12-c26e-59044459c1a1"
      },
      "outputs": [
        {
          "output_type": "execute_result",
          "data": {
            "text/plain": [
              "16.0"
            ]
          },
          "metadata": {},
          "execution_count": 15
        }
      ],
      "source": [
        "# maximum value of image pixel\n",
        "flatten_data.max()"
      ]
    },
    {
      "cell_type": "code",
      "execution_count": null,
      "metadata": {
        "id": "6x4-wef4hE-d"
      },
      "outputs": [],
      "source": [
        "# scale each pixel\n",
        "flatten_data = flatten_data/16"
      ]
    },
    {
      "cell_type": "code",
      "execution_count": null,
      "metadata": {
        "colab": {
          "base_uri": "https://localhost:8080/"
        },
        "id": "ROfKRzbovctu",
        "outputId": "6669b94e-9dca-449c-db8c-4e6be491588f"
      },
      "outputs": [
        {
          "output_type": "execute_result",
          "data": {
            "text/plain": [
              "0.0"
            ]
          },
          "metadata": {},
          "execution_count": 17
        }
      ],
      "source": [
        "# minimum value of scaled image pixel\n",
        "flatten_data.min()"
      ]
    },
    {
      "cell_type": "code",
      "execution_count": null,
      "metadata": {
        "colab": {
          "base_uri": "https://localhost:8080/"
        },
        "id": "gAGvUqMzvczu",
        "outputId": "f4fc6794-e8e5-40dc-a24f-3aeff0638931"
      },
      "outputs": [
        {
          "output_type": "execute_result",
          "data": {
            "text/plain": [
              "1.0"
            ]
          },
          "metadata": {},
          "execution_count": 18
        }
      ],
      "source": [
        "# maximum value of scaled image pixel\n",
        "flatten_data.max()"
      ]
    },
    {
      "cell_type": "code",
      "execution_count": null,
      "metadata": {
        "colab": {
          "base_uri": "https://localhost:8080/"
        },
        "id": "ihBzBnRCQDYA",
        "outputId": "d4433dae-d081-4a80-f330-b107b22fb582"
      },
      "outputs": [
        {
          "output_type": "execute_result",
          "data": {
            "text/plain": [
              "array([0.    , 0.    , 0.3125, 0.8125, 0.5625, 0.0625, 0.    , 0.    ,\n",
              "       0.    , 0.    , 0.8125, 0.9375, 0.625 , 0.9375, 0.3125, 0.    ,\n",
              "       0.    , 0.1875, 0.9375, 0.125 , 0.    , 0.6875, 0.5   , 0.    ,\n",
              "       0.    , 0.25  , 0.75  , 0.    , 0.    , 0.5   , 0.5   , 0.    ,\n",
              "       0.    , 0.3125, 0.5   , 0.    , 0.    , 0.5625, 0.5   , 0.    ,\n",
              "       0.    , 0.25  , 0.6875, 0.    , 0.0625, 0.75  , 0.4375, 0.    ,\n",
              "       0.    , 0.125 , 0.875 , 0.3125, 0.625 , 0.75  , 0.    , 0.    ,\n",
              "       0.    , 0.    , 0.375 , 0.8125, 0.625 , 0.    , 0.    , 0.    ])"
            ]
          },
          "metadata": {},
          "execution_count": 19
        }
      ],
      "source": [
        "flatten_data[0]"
      ]
    },
    {
      "cell_type": "code",
      "source": [
        "df.target"
      ],
      "metadata": {
        "colab": {
          "base_uri": "https://localhost:8080/"
        },
        "id": "IuzaIyxpaGrf",
        "outputId": "cef6f7e7-fdae-4cea-ea81-5649992194a5"
      },
      "execution_count": null,
      "outputs": [
        {
          "output_type": "execute_result",
          "data": {
            "text/plain": [
              "array([0, 1, 2, ..., 8, 9, 8])"
            ]
          },
          "metadata": {},
          "execution_count": 20
        }
      ]
    },
    {
      "cell_type": "code",
      "execution_count": null,
      "metadata": {
        "id": "xkAhwJEBfJGy"
      },
      "outputs": [],
      "source": [
        "# splitting the data into train and test dataset\n",
        "from sklearn.model_selection import train_test_split\n",
        "X_train, X_test, y_train, y_test = train_test_split(\n",
        "    flatten_data, df.target, test_size=.30, random_state=2529)"
      ]
    },
    {
      "cell_type": "code",
      "source": [
        "# verify shape\n",
        "X_train.shape, X_test.shape, y_train.shape, y_test.shape"
      ],
      "metadata": {
        "colab": {
          "base_uri": "https://localhost:8080/"
        },
        "id": "bNFCwVLLHBB1",
        "outputId": "7b9954c6-a992-4a75-fdc1-50b9a85daae5"
      },
      "execution_count": null,
      "outputs": [
        {
          "output_type": "execute_result",
          "data": {
            "text/plain": [
              "((1257, 64), (540, 64), (1257,), (540,))"
            ]
          },
          "metadata": {},
          "execution_count": 22
        }
      ]
    },
    {
      "cell_type": "code",
      "execution_count": null,
      "metadata": {
        "id": "Lz_-BNBae2mQ"
      },
      "outputs": [],
      "source": [
        "# select model\n",
        "from sklearn.ensemble import RandomForestClassifier\n",
        "model = RandomForestClassifier()"
      ]
    },
    {
      "cell_type": "code",
      "execution_count": null,
      "metadata": {
        "id": "RpNs0ejmfBUU",
        "colab": {
          "base_uri": "https://localhost:8080/"
        },
        "outputId": "01a7db55-9996-40c3-e851-b5826111cf46"
      },
      "outputs": [
        {
          "output_type": "execute_result",
          "data": {
            "text/plain": [
              "RandomForestClassifier()"
            ]
          },
          "metadata": {},
          "execution_count": 24
        }
      ],
      "source": [
        "# train model\n",
        "model.fit(X_train, y_train)"
      ]
    },
    {
      "cell_type": "code",
      "execution_count": null,
      "metadata": {
        "id": "TFfisQtTfDL4"
      },
      "outputs": [],
      "source": [
        "# predict with model\n",
        "y_pred = model.predict(X_test)"
      ]
    },
    {
      "cell_type": "code",
      "execution_count": null,
      "metadata": {
        "id": "wFSIvFjzfieM"
      },
      "outputs": [],
      "source": [
        "# model evaluation\n",
        "from sklearn.metrics import accuracy_score, confusion_matrix,classification_report"
      ]
    },
    {
      "cell_type": "code",
      "execution_count": null,
      "metadata": {
        "colab": {
          "base_uri": "https://localhost:8080/"
        },
        "id": "rNv3bqUBgACz",
        "outputId": "3c7c00ca-2b65-44e4-fab1-3daf0a40a7ec"
      },
      "outputs": [
        {
          "output_type": "execute_result",
          "data": {
            "text/plain": [
              "0.9685185185185186"
            ]
          },
          "metadata": {},
          "execution_count": 27
        }
      ],
      "source": [
        "# model accuracy\n",
        "accuracy_score(y_test,y_pred)"
      ]
    },
    {
      "cell_type": "code",
      "source": [
        "# model confusion matrix\n",
        "confusion_matrix(y_test, y_pred)"
      ],
      "metadata": {
        "colab": {
          "base_uri": "https://localhost:8080/"
        },
        "id": "t9Gi2eeAHSa8",
        "outputId": "4eb5bc04-e0f1-4571-d3ac-69f4ed8d4752"
      },
      "execution_count": null,
      "outputs": [
        {
          "output_type": "execute_result",
          "data": {
            "text/plain": [
              "array([[43,  0,  0,  0,  0,  0,  0,  0,  0,  0],\n",
              "       [ 0, 64,  0,  0,  0,  0,  0,  0,  0,  0],\n",
              "       [ 0,  0, 61,  0,  0,  0,  0,  0,  0,  0],\n",
              "       [ 0,  0,  0, 50,  0,  1,  0,  1,  0,  0],\n",
              "       [ 0,  0,  0,  0, 53,  0,  0,  0,  1,  0],\n",
              "       [ 0,  0,  0,  0,  0, 58,  0,  0,  0,  0],\n",
              "       [ 0,  0,  0,  0,  2,  0, 50,  0,  0,  0],\n",
              "       [ 0,  0,  0,  0,  0,  0,  0, 50,  0,  0],\n",
              "       [ 0,  5,  0,  1,  0,  0,  0,  0, 47,  0],\n",
              "       [ 0,  0,  0,  3,  0,  1,  0,  1,  1, 47]])"
            ]
          },
          "metadata": {},
          "execution_count": 28
        }
      ]
    },
    {
      "cell_type": "code",
      "source": [
        "# model classification report\n",
        "print(classification_report(y_test, y_pred))"
      ],
      "metadata": {
        "colab": {
          "base_uri": "https://localhost:8080/"
        },
        "id": "ksLcsfACHSeW",
        "outputId": "532ab6b1-7a77-40b6-e12f-cb53053245b1"
      },
      "execution_count": null,
      "outputs": [
        {
          "output_type": "stream",
          "name": "stdout",
          "text": [
            "              precision    recall  f1-score   support\n",
            "\n",
            "           0       1.00      1.00      1.00        43\n",
            "           1       0.93      1.00      0.96        64\n",
            "           2       1.00      1.00      1.00        61\n",
            "           3       0.93      0.96      0.94        52\n",
            "           4       0.96      0.98      0.97        54\n",
            "           5       0.97      1.00      0.98        58\n",
            "           6       1.00      0.96      0.98        52\n",
            "           7       0.96      1.00      0.98        50\n",
            "           8       0.96      0.89      0.92        53\n",
            "           9       1.00      0.89      0.94        53\n",
            "\n",
            "    accuracy                           0.97       540\n",
            "   macro avg       0.97      0.97      0.97       540\n",
            "weighted avg       0.97      0.97      0.97       540\n",
            "\n"
          ]
        }
      ]
    },
    {
      "cell_type": "code",
      "source": [],
      "metadata": {
        "id": "t5gJF4aIiIDy"
      },
      "execution_count": null,
      "outputs": []
    }
  ],
  "metadata": {
    "colab": {
      "provenance": [],
      "include_colab_link": true
    },
    "kernelspec": {
      "display_name": "Python 3",
      "language": "python",
      "name": "python3"
    },
    "language_info": {
      "codemirror_mode": {
        "name": "ipython",
        "version": 3
      },
      "file_extension": ".py",
      "mimetype": "text/x-python",
      "name": "python",
      "nbconvert_exporter": "python",
      "pygments_lexer": "ipython3",
      "version": "3.8.8"
    }
  },
  "nbformat": 4,
  "nbformat_minor": 0
}